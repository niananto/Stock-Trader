{
 "cells": [
  {
   "cell_type": "code",
   "execution_count": 12,
   "metadata": {},
   "outputs": [],
   "source": [
    "import pandas as pd\n",
    "import json\n",
    "import os \n",
    "import sys"
   ]
  },
  {
   "cell_type": "code",
   "execution_count": 14,
   "metadata": {},
   "outputs": [
    {
     "name": "stdout",
     "output_type": "stream",
     "text": [
      "['prices_2008.json', 'prices_2009.json', 'prices_2010.json', 'prices_2011.json', 'prices_2012.json', 'prices_2013.json', 'prices_2014.json', 'prices_2015.json', 'prices_2016.json', 'prices_2017.json', 'prices_2018.json', 'prices_2019.json', 'prices_2020.json', 'prices_2021.json', 'prices_2022.json']\n"
     ]
    }
   ],
   "source": [
    "dir = os.path.join('dataset', 'kaggle-dse')\n",
    "\n",
    "files = os.listdir(dir)\n",
    "files.sort()\n",
    "files = [f for f in files if f != 'securities.json']\n",
    "print(files)"
   ]
  },
  {
   "cell_type": "code",
   "execution_count": 33,
   "metadata": {},
   "outputs": [
    {
     "data": {
      "text/plain": [
       "15"
      ]
     },
     "execution_count": 33,
     "metadata": {},
     "output_type": "execute_result"
    }
   ],
   "source": [
    "# load all the json files\n",
    "data = []\n",
    "for f in files:\n",
    "    with open(os.path.join(dir, f)) as file:\n",
    "        data.append(json.load(file))\n",
    "len(data)"
   ]
  },
  {
   "cell_type": "code",
   "execution_count": 34,
   "metadata": {},
   "outputs": [],
   "source": [
    "# convert to pandas dataframe\n",
    "dfs = []\n",
    "for i in range(1,len(data)):\n",
    "    dfs.append(pd.DataFrame(data[i]))\n",
    "df = pd.concat(dfs)"
   ]
  },
  {
   "cell_type": "code",
   "execution_count": 35,
   "metadata": {},
   "outputs": [
    {
     "data": {
      "text/plain": [
       "(1715852, 11)"
      ]
     },
     "execution_count": 35,
     "metadata": {},
     "output_type": "execute_result"
    }
   ],
   "source": [
    "df.shape"
   ]
  },
  {
   "cell_type": "code",
   "execution_count": 36,
   "metadata": {},
   "outputs": [
    {
     "data": {
      "text/plain": [
       "Index(['STANCERAM', 'JAMUNABANK', 'JANATAINS', 'JUTESPINN', 'KARNAPHULI',\n",
       "       'KAY&QUE', 'KEYACOSMET', 'KOHINOOR', 'LANKABAFIN', 'LEGACYFOOT',\n",
       "       'LIBRAINFU', 'LINDEBD', 'MAKSONSPIN', 'MEGCONMILK', 'MEGHNACEM',\n",
       "       'MEGHNALIFE', 'MEGHNAPET', 'MERCANBANK', 'MERCINS', 'METROSPIN',\n",
       "       'MIDASFIN', 'MIRACLEIND', 'MONNOCERA', 'MPETROLEUM', 'NATLIFEINS',\n",
       "       'NBL', 'NCCBANK', 'JAMUNAOIL', 'ISNLTD', 'EXIMBANK'],\n",
       "      dtype='object', name='trading_code')"
      ]
     },
     "execution_count": 36,
     "metadata": {},
     "output_type": "execute_result"
    }
   ],
   "source": [
    "# count the unique values in the column\n",
    "df['trading_code'].value_counts()\n",
    "# keep only the top 30 trading codes\n",
    "top_30 = df['trading_code'].value_counts().head(30).index\n",
    "top_30"
   ]
  },
  {
   "cell_type": "code",
   "execution_count": 37,
   "metadata": {},
   "outputs": [
    {
     "data": {
      "text/plain": [
       "date\n",
       "2009-12-30 00:00:00    30\n",
       "2017-04-20 00:00:00    30\n",
       "2018-10-09 00:00:00    30\n",
       "2018-10-08 00:00:00    30\n",
       "2018-10-07 00:00:00    30\n",
       "                       ..\n",
       "2013-04-24 00:00:00    30\n",
       "2013-04-23 00:00:00    30\n",
       "2013-04-22 00:00:00    30\n",
       "2013-04-21 00:00:00    30\n",
       "2022-01-02 00:00:00    30\n",
       "Name: count, Length: 3333, dtype: int64"
      ]
     },
     "execution_count": 37,
     "metadata": {},
     "output_type": "execute_result"
    }
   ],
   "source": [
    "# drop the rows with trading codes not in the top 30\n",
    "df = df[df['trading_code'].isin(top_30)]\n",
    "# drop the rows with date and trading code is not unique\n",
    "df = df.drop_duplicates(subset=['date', 'trading_code'])\n",
    "df['date'].value_counts()"
   ]
  },
  {
   "cell_type": "code",
   "execution_count": 25,
   "metadata": {},
   "outputs": [
    {
     "data": {
      "text/plain": [
       "trading_code\n",
       "EXIMBANK      3333\n",
       "ISNLTD        3333\n",
       "NCCBANK       3333\n",
       "NBL           3333\n",
       "NATLIFEINS    3333\n",
       "MPETROLEUM    3333\n",
       "MONNOCERA     3333\n",
       "MIRACLEIND    3333\n",
       "MIDASFIN      3333\n",
       "METROSPIN     3333\n",
       "MERCINS       3333\n",
       "MERCANBANK    3333\n",
       "MEGHNAPET     3333\n",
       "MEGHNALIFE    3333\n",
       "MEGHNACEM     3333\n",
       "MEGCONMILK    3333\n",
       "MAKSONSPIN    3333\n",
       "LINDEBD       3333\n",
       "LIBRAINFU     3333\n",
       "LEGACYFOOT    3333\n",
       "LANKABAFIN    3333\n",
       "KOHINOOR      3333\n",
       "KEYACOSMET    3333\n",
       "KAY&QUE       3333\n",
       "KARNAPHULI    3333\n",
       "JUTESPINN     3333\n",
       "JANATAINS     3333\n",
       "JAMUNAOIL     3333\n",
       "JAMUNABANK    3333\n",
       "STANCERAM     3333\n",
       "Name: count, dtype: int64"
      ]
     },
     "execution_count": 25,
     "metadata": {},
     "output_type": "execute_result"
    }
   ],
   "source": [
    "df['trading_code'].value_counts()"
   ]
  },
  {
   "cell_type": "code",
   "execution_count": 38,
   "metadata": {},
   "outputs": [
    {
     "data": {
      "text/plain": [
       "6240"
      ]
     },
     "execution_count": 38,
     "metadata": {},
     "output_type": "execute_result"
    }
   ],
   "source": [
    "# per year minimum number of trading days\n",
    "df['date'] = pd.to_datetime(df['date'])\n",
    "df['year'] = df['date'].dt.year\n",
    "df.groupby('year').size().min()"
   ]
  },
  {
   "cell_type": "code",
   "execution_count": 40,
   "metadata": {},
   "outputs": [
    {
     "data": {
      "text/plain": [
       "year\n",
       "2009    6240\n",
       "2010    6240\n",
       "2011    6240\n",
       "2012    6240\n",
       "2013    6240\n",
       "2014    6240\n",
       "2015    6240\n",
       "2016    6240\n",
       "2017    6240\n",
       "2018    6240\n",
       "2019    6240\n",
       "2020    6240\n",
       "2021    6240\n",
       "2022    6240\n",
       "Name: count, dtype: int64"
      ]
     },
     "execution_count": 40,
     "metadata": {},
     "output_type": "execute_result"
    }
   ],
   "source": [
    "# for each year, keep the first 6240 rows sorted by date\n",
    "new_df = df.sort_values('date').groupby('year').head(6240)\n",
    "new_df['trading_code'].value_counts()\n",
    "new_df['year'].value_counts()"
   ]
  },
  {
   "cell_type": "code",
   "execution_count": null,
   "metadata": {},
   "outputs": [],
   "source": []
  }
 ],
 "metadata": {
  "kernelspec": {
   "display_name": "Python 3",
   "language": "python",
   "name": "python3"
  },
  "language_info": {
   "codemirror_mode": {
    "name": "ipython",
    "version": 3
   },
   "file_extension": ".py",
   "mimetype": "text/x-python",
   "name": "python",
   "nbconvert_exporter": "python",
   "pygments_lexer": "ipython3",
   "version": "3.11.7"
  }
 },
 "nbformat": 4,
 "nbformat_minor": 2
}
