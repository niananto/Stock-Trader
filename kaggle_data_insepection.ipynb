{
 "cells": [
  {
   "cell_type": "code",
   "execution_count": 39,
   "metadata": {},
   "outputs": [],
   "source": [
    "import pandas as pd\n",
    "import json\n",
    "import os \n",
    "import sys\n",
    "\n",
    "# plot\n",
    "import matplotlib.pyplot as plt\n",
    "import seaborn as sns"
   ]
  },
  {
   "cell_type": "code",
   "execution_count": 40,
   "metadata": {},
   "outputs": [
    {
     "name": "stdout",
     "output_type": "stream",
     "text": [
      "['prices_2009.json', 'prices_2010.json', 'prices_2011.json', 'prices_2012.json', 'prices_2013.json', 'prices_2014.json', 'prices_2015.json', 'prices_2016.json', 'prices_2017.json', 'prices_2018.json', 'prices_2019.json', 'prices_2020.json', 'prices_2021.json', 'prices_2022.json']\n"
     ]
    }
   ],
   "source": [
    "dir = os.path.join('dataset', 'kaggle-dse')\n",
    "\n",
    "files = os.listdir(dir)\n",
    "files.sort()\n",
    "files = [f for f in files if f not in ['securities.json', 'prices_2008.json']]\n",
    "print(files)"
   ]
  },
  {
   "cell_type": "code",
   "execution_count": 41,
   "metadata": {},
   "outputs": [
    {
     "data": {
      "text/plain": [
       "14"
      ]
     },
     "execution_count": 41,
     "metadata": {},
     "output_type": "execute_result"
    }
   ],
   "source": [
    "# load all the json files\n",
    "data = []\n",
    "for f in files:\n",
    "    with open(os.path.join(dir, f)) as file:\n",
    "        data.append(json.load(file))\n",
    "len(data)"
   ]
  },
  {
   "cell_type": "code",
   "execution_count": 42,
   "metadata": {},
   "outputs": [],
   "source": [
    "# convert to pandas dataframe\n",
    "dfs = []\n",
    "for i in range(1,len(data)):\n",
    "    dfs.append(pd.DataFrame(data[i]))\n",
    "df = pd.concat(dfs)"
   ]
  },
  {
   "cell_type": "code",
   "execution_count": 43,
   "metadata": {},
   "outputs": [
    {
     "data": {
      "text/plain": [
       "(1612197, 11)"
      ]
     },
     "execution_count": 43,
     "metadata": {},
     "output_type": "execute_result"
    }
   ],
   "source": [
    "df.shape"
   ]
  },
  {
   "cell_type": "code",
   "execution_count": 44,
   "metadata": {},
   "outputs": [
    {
     "data": {
      "text/html": [
       "<div>\n",
       "<style scoped>\n",
       "    .dataframe tbody tr th:only-of-type {\n",
       "        vertical-align: middle;\n",
       "    }\n",
       "\n",
       "    .dataframe tbody tr th {\n",
       "        vertical-align: top;\n",
       "    }\n",
       "\n",
       "    .dataframe thead th {\n",
       "        text-align: right;\n",
       "    }\n",
       "</style>\n",
       "<table border=\"1\" class=\"dataframe\">\n",
       "  <thead>\n",
       "    <tr style=\"text-align: right;\">\n",
       "      <th></th>\n",
       "      <th>date</th>\n",
       "      <th>trading_code</th>\n",
       "      <th>last_traded_price</th>\n",
       "      <th>high</th>\n",
       "      <th>low</th>\n",
       "      <th>opening_price</th>\n",
       "      <th>closing_price</th>\n",
       "      <th>yesterdays_closing_price</th>\n",
       "      <th>trade</th>\n",
       "      <th>value_mn</th>\n",
       "      <th>volume</th>\n",
       "    </tr>\n",
       "  </thead>\n",
       "  <tbody>\n",
       "    <tr>\n",
       "      <th>0</th>\n",
       "      <td>2010-12-30 00:00:00</td>\n",
       "      <td>1JANATAMF</td>\n",
       "      <td>12.9</td>\n",
       "      <td>13.9</td>\n",
       "      <td>12.3</td>\n",
       "      <td>12.3</td>\n",
       "      <td>13.0</td>\n",
       "      <td>12.0</td>\n",
       "      <td>4708</td>\n",
       "      <td>124.8680</td>\n",
       "      <td>9623500</td>\n",
       "    </tr>\n",
       "    <tr>\n",
       "      <th>1</th>\n",
       "      <td>2010-12-29 00:00:00</td>\n",
       "      <td>1JANATAMF</td>\n",
       "      <td>11.8</td>\n",
       "      <td>12.3</td>\n",
       "      <td>11.2</td>\n",
       "      <td>11.7</td>\n",
       "      <td>12.0</td>\n",
       "      <td>11.3</td>\n",
       "      <td>1680</td>\n",
       "      <td>46.8126</td>\n",
       "      <td>3987000</td>\n",
       "    </tr>\n",
       "    <tr>\n",
       "      <th>2</th>\n",
       "      <td>2010-12-28 00:00:00</td>\n",
       "      <td>1JANATAMF</td>\n",
       "      <td>11.3</td>\n",
       "      <td>11.7</td>\n",
       "      <td>11.0</td>\n",
       "      <td>11.0</td>\n",
       "      <td>11.3</td>\n",
       "      <td>11.2</td>\n",
       "      <td>1077</td>\n",
       "      <td>19.3689</td>\n",
       "      <td>1698500</td>\n",
       "    </tr>\n",
       "    <tr>\n",
       "      <th>3</th>\n",
       "      <td>2010-12-27 00:00:00</td>\n",
       "      <td>1JANATAMF</td>\n",
       "      <td>11.3</td>\n",
       "      <td>11.5</td>\n",
       "      <td>11.0</td>\n",
       "      <td>11.5</td>\n",
       "      <td>11.2</td>\n",
       "      <td>11.4</td>\n",
       "      <td>932</td>\n",
       "      <td>13.9884</td>\n",
       "      <td>1249000</td>\n",
       "    </tr>\n",
       "    <tr>\n",
       "      <th>4</th>\n",
       "      <td>2010-12-26 00:00:00</td>\n",
       "      <td>1JANATAMF</td>\n",
       "      <td>11.6</td>\n",
       "      <td>11.8</td>\n",
       "      <td>11.2</td>\n",
       "      <td>11.6</td>\n",
       "      <td>11.4</td>\n",
       "      <td>11.5</td>\n",
       "      <td>1671</td>\n",
       "      <td>31.8171</td>\n",
       "      <td>2746500</td>\n",
       "    </tr>\n",
       "  </tbody>\n",
       "</table>\n",
       "</div>"
      ],
      "text/plain": [
       "                  date trading_code  last_traded_price  high   low  \\\n",
       "0  2010-12-30 00:00:00    1JANATAMF               12.9  13.9  12.3   \n",
       "1  2010-12-29 00:00:00    1JANATAMF               11.8  12.3  11.2   \n",
       "2  2010-12-28 00:00:00    1JANATAMF               11.3  11.7  11.0   \n",
       "3  2010-12-27 00:00:00    1JANATAMF               11.3  11.5  11.0   \n",
       "4  2010-12-26 00:00:00    1JANATAMF               11.6  11.8  11.2   \n",
       "\n",
       "   opening_price  closing_price  yesterdays_closing_price  trade  value_mn  \\\n",
       "0           12.3           13.0                      12.0   4708  124.8680   \n",
       "1           11.7           12.0                      11.3   1680   46.8126   \n",
       "2           11.0           11.3                      11.2   1077   19.3689   \n",
       "3           11.5           11.2                      11.4    932   13.9884   \n",
       "4           11.6           11.4                      11.5   1671   31.8171   \n",
       "\n",
       "    volume  \n",
       "0  9623500  \n",
       "1  3987000  \n",
       "2  1698500  \n",
       "3  1249000  \n",
       "4  2746500  "
      ]
     },
     "execution_count": 44,
     "metadata": {},
     "output_type": "execute_result"
    }
   ],
   "source": [
    "df.head()"
   ]
  },
  {
   "cell_type": "code",
   "execution_count": 45,
   "metadata": {},
   "outputs": [
    {
     "data": {
      "text/plain": [
       "trading_code\n",
       "GP            3090\n",
       "SANDHANINS    3090\n",
       "ICBIBANK      3090\n",
       "SAMORITA      3090\n",
       "IDLC          3090\n",
       "              ... \n",
       "TB2Y1024        40\n",
       "GIB             31\n",
       "TB5Y1127        11\n",
       "IICICL          11\n",
       "ICICL            9\n",
       "Name: count, Length: 954, dtype: int64"
      ]
     },
     "execution_count": 45,
     "metadata": {},
     "output_type": "execute_result"
    }
   ],
   "source": [
    "# count the unique values in the column\n",
    "df = df.drop_duplicates(subset=['date', 'trading_code'])\n",
    "df['trading_code'].value_counts()"
   ]
  },
  {
   "cell_type": "code",
   "execution_count": 46,
   "metadata": {},
   "outputs": [
    {
     "data": {
      "text/plain": [
       "30"
      ]
     },
     "execution_count": 46,
     "metadata": {},
     "output_type": "execute_result"
    }
   ],
   "source": [
    "top_companies = [\n",
    "    \"GP\",\n",
    "    \"BATBC\",\n",
    "    \"SQURPHARMA\",\n",
    "    \"RENATA\",\n",
    "    \"BEXIMCO\",\n",
    "    \"BERGERPBL\",\n",
    "    \"MARICO\",\n",
    "    \"BRACBANK\",\n",
    "    \"BXPHARMA\",\n",
    "    \"ISLAMIBANK\",\n",
    "    \"DUTCHBANGL\",\n",
    "    \"EBL\",\n",
    "    \"POWERGRID\",\n",
    "    \"SUMITPOWER\",\n",
    "    \"OLYMPIC\",\n",
    "    \"PUBALIBANK\",\n",
    "    \"CITYBANK\",\n",
    "    \"ALARABANK\",\n",
    "    \"PRIMEBANK\",\n",
    "    \"IFIC\",\n",
    "    \"RECKITTBEN\",\n",
    "    \"NBL\",\n",
    "    \"BSRMSTEEL\",\n",
    "    \"BANKASIA\",\n",
    "    \"SHAHJABANK\",\n",
    "    \"MPETROLEUM\",\n",
    "    \"LINDEBD\",\n",
    "    \"BSC\",\n",
    "    \"JAMUNAOIL\",\n",
    "    \"PADMAOIL\",\n",
    "]\n",
    "\n",
    "len(top_companies)"
   ]
  },
  {
   "cell_type": "code",
   "execution_count": 47,
   "metadata": {},
   "outputs": [
    {
     "data": {
      "text/plain": [
       "date\n",
       "2010-12-30 00:00:00    30\n",
       "2018-07-17 00:00:00    30\n",
       "2018-06-05 00:00:00    30\n",
       "2018-06-04 00:00:00    30\n",
       "2018-06-03 00:00:00    30\n",
       "                       ..\n",
       "2014-08-24 00:00:00    30\n",
       "2014-08-21 00:00:00    30\n",
       "2014-08-20 00:00:00    30\n",
       "2014-08-19 00:00:00    30\n",
       "2022-01-02 00:00:00    30\n",
       "Name: count, Length: 3090, dtype: int64"
      ]
     },
     "execution_count": 47,
     "metadata": {},
     "output_type": "execute_result"
    }
   ],
   "source": [
    "df = df[df['trading_code'].isin(top_companies)]\n",
    "\n",
    "df['date'].value_counts()"
   ]
  },
  {
   "cell_type": "code",
   "execution_count": 48,
   "metadata": {},
   "outputs": [
    {
     "data": {
      "text/plain": [
       "trading_code\n",
       "ALARABANK     3090\n",
       "BANKASIA      3090\n",
       "SQURPHARMA    3090\n",
       "SHAHJABANK    3090\n",
       "RENATA        3090\n",
       "RECKITTBEN    3090\n",
       "PUBALIBANK    3090\n",
       "PRIMEBANK     3090\n",
       "POWERGRID     3090\n",
       "PADMAOIL      3090\n",
       "OLYMPIC       3090\n",
       "NBL           3090\n",
       "MPETROLEUM    3090\n",
       "MARICO        3090\n",
       "LINDEBD       3090\n",
       "JAMUNAOIL     3090\n",
       "ISLAMIBANK    3090\n",
       "IFIC          3090\n",
       "GP            3090\n",
       "EBL           3090\n",
       "DUTCHBANGL    3090\n",
       "CITYBANK      3090\n",
       "BXPHARMA      3090\n",
       "BSRMSTEEL     3090\n",
       "BSC           3090\n",
       "BRACBANK      3090\n",
       "BEXIMCO       3090\n",
       "BERGERPBL     3090\n",
       "BATBC         3090\n",
       "SUMITPOWER    3090\n",
       "Name: count, dtype: int64"
      ]
     },
     "execution_count": 48,
     "metadata": {},
     "output_type": "execute_result"
    }
   ],
   "source": [
    "df['trading_code'].value_counts()"
   ]
  },
  {
   "cell_type": "code",
   "execution_count": 49,
   "metadata": {},
   "outputs": [
    {
     "data": {
      "image/png": "[encoded data removed]",
      "text/plain": [
       "<Figure size 2500x500 with 1 Axes>"
      ]
     },
     "metadata": {},
     "output_type": "display_data"
    }
   ],
   "source": [
    "# per year minimum number of trading days\n",
    "df['date'] = pd.to_datetime(df['date'])\n",
    "df['year'] = df['date'].dt.year\n",
    "df['month'] = df['date'].dt.month\n",
    "\n",
    "# Create a new column 'year_month' for plotting\n",
    "df['year_month'] = df['year'].astype(str) + '-' + df['month'].astype(str)\n",
    "\n",
    "plt.figure(figsize=(25, 5))\n",
    "sns.countplot(x='year_month', data=df, order=sorted(df['year_month'].unique()))\n",
    "plt.xticks(rotation=90)  # Rotate x-axis labels for better visibility\n",
    "plt.show()"
   ]
  },
  {
   "cell_type": "code",
   "execution_count": 50,
   "metadata": {},
   "outputs": [
    {
     "name": "stdout",
     "output_type": "stream",
     "text": [
      "date                           0\n",
      "trading_code                   0\n",
      "last_traded_price           1469\n",
      "high                        1469\n",
      "low                         1469\n",
      "opening_price                522\n",
      "closing_price                 29\n",
      "yesterdays_closing_price       0\n",
      "trade                       1472\n",
      "value_mn                    1493\n",
      "volume                      1472\n",
      "year                           0\n",
      "month                          0\n",
      "year_month                     0\n",
      "dtype: int64\n"
     ]
    }
   ],
   "source": [
    "# print the zero count of each column\n",
    "zero_counts = df.apply(lambda x: (x==0).sum())\n",
    "print(zero_counts)"
   ]
  },
  {
   "cell_type": "code",
   "execution_count": 51,
   "metadata": {},
   "outputs": [
    {
     "name": "stdout",
     "output_type": "stream",
     "text": [
      "date                           0\n",
      "trading_code                   0\n",
      "last_traded_price           1469\n",
      "high                         312\n",
      "low                          312\n",
      "opening_price                 17\n",
      "closing_price                  0\n",
      "yesterdays_closing_price       0\n",
      "trade                       1472\n",
      "value_mn                    1493\n",
      "volume                      1472\n",
      "year                           0\n",
      "month                          0\n",
      "year_month                     0\n",
      "dtype: int64\n"
     ]
    }
   ],
   "source": [
    "# Calculate the mean values of each month for the columns high, low, opening, and closing\n",
    "# mean_values = df.groupby(['year', 'month', 'trading_code'])[['high', 'low', 'opening', 'closing']].mean()\n",
    "# Replace the zero values with the mean values\n",
    "new_df = df.copy()\n",
    "new_df[['high', 'low', 'opening_price', 'closing_price']] = \\\n",
    "        new_df.groupby(['year', 'month', 'trading_code'])[['high', 'low', 'opening_price', 'closing_price']].transform(lambda x: x.replace(0, x.mean()))\n",
    "\n",
    "# Verify the changes\n",
    "# print the zero count of each column\n",
    "zero_counts = new_df.apply(lambda x: (x==0).sum())\n",
    "print(zero_counts)"
   ]
  },
  {
   "cell_type": "code",
   "execution_count": 52,
   "metadata": {},
   "outputs": [
    {
     "name": "stdout",
     "output_type": "stream",
     "text": [
      "date                           0\n",
      "trading_code                   0\n",
      "last_traded_price           1469\n",
      "high                           0\n",
      "low                            0\n",
      "opening_price                  0\n",
      "closing_price                  0\n",
      "yesterdays_closing_price       0\n",
      "trade                       1472\n",
      "value_mn                    1493\n",
      "volume                      1472\n",
      "year                           0\n",
      "month                          0\n",
      "year_month                     0\n",
      "dtype: int64\n"
     ]
    }
   ],
   "source": [
    "new_df[['high', 'low', 'opening_price', 'closing_price']] = \\\n",
    "        new_df.groupby(['year', 'trading_code'])[['high', 'low', 'opening_price', 'closing_price']].transform(lambda x: x.replace(0, x.mean()))\n",
    "\n",
    "# Verify the changes\n",
    "# print the zero count of each column\n",
    "zero_counts = new_df.apply(lambda x: (x==0).sum())\n",
    "print(zero_counts)"
   ]
  },
  {
   "cell_type": "code",
   "execution_count": 107,
   "metadata": {},
   "outputs": [],
   "source": [
    "df = new_df.copy()"
   ]
  },
  {
   "cell_type": "code",
   "execution_count": 108,
   "metadata": {},
   "outputs": [
    {
     "data": {
      "text/plain": [
       "year\n",
       "2017    7440\n",
       "2010    7320\n",
       "2015    7320\n",
       "2022    7320\n",
       "2018    7260\n",
       "2016    7230\n",
       "2021    7200\n",
       "2013    7140\n",
       "2014    7140\n",
       "2012    7110\n",
       "2019    7110\n",
       "2011    6870\n",
       "2020    6240\n",
       "Name: count, dtype: int64"
      ]
     },
     "execution_count": 108,
     "metadata": {},
     "output_type": "execute_result"
    }
   ],
   "source": [
    "df['year'].value_counts()"
   ]
  },
  {
   "cell_type": "code",
   "execution_count": 114,
   "metadata": {},
   "outputs": [
    {
     "name": "stdout",
     "output_type": "stream",
     "text": [
      "208\n",
      "208\n",
      "208\n",
      "208\n",
      "208\n",
      "208\n",
      "208\n",
      "208\n",
      "208\n",
      "208\n",
      "208\n",
      "208\n",
      "208\n"
     ]
    }
   ],
   "source": [
    "# df['date'] = pd.to_datetime(df['date'])\n",
    "\n",
    "# Create an empty DataFrame to store the sampled data\n",
    "sampled_data = pd.DataFrame()\n",
    "\n",
    "# Group the data by year\n",
    "grouped_data = df.groupby('year')\n",
    "\n",
    "# Sample 200 days for each year\n",
    "for year, group in grouped_data:\n",
    "    # Sample 200 unique days\n",
    "    for t, g in group.groupby('trading_code'):\n",
    "        sampled_days = g['date'].sample(208, replace=False)\n",
    "        break\n",
    "    # check the number of unique days\n",
    "    print(len(sampled_days.unique()))\n",
    "    \n",
    "    # Filter the data for the sampled days\n",
    "    sampled_year_data = group[group['date'].isin(sampled_days)]\n",
    "    # print(len(sampled_year_data))\n",
    "    \n",
    "    # Ensure each sampled day includes all 30 trading codes\n",
    "    sampled_year_data = sampled_year_data.groupby('date').filter(lambda x: len(x) == 30)\n",
    "    \n",
    "    # Append the sampled data to the final DataFrame\n",
    "    sampled_data = pd.concat([sampled_data, sampled_year_data])\n",
    "\n",
    "# Reset index of the final sampled data\n",
    "sampled_data.reset_index(drop=True, inplace=True)"
   ]
  },
  {
   "cell_type": "code",
   "execution_count": 115,
   "metadata": {},
   "outputs": [
    {
     "data": {
      "text/plain": [
       "year\n",
       "2010    6240\n",
       "2011    6240\n",
       "2012    6240\n",
       "2013    6240\n",
       "2014    6240\n",
       "2015    6240\n",
       "2016    6240\n",
       "2017    6240\n",
       "2018    6240\n",
       "2019    6240\n",
       "2020    6240\n",
       "2021    6240\n",
       "2022    6240\n",
       "Name: count, dtype: int64"
      ]
     },
     "execution_count": 115,
     "metadata": {},
     "output_type": "execute_result"
    }
   ],
   "source": [
    "sampled_data['year'].value_counts()"
   ]
  },
  {
   "cell_type": "code",
   "execution_count": 116,
   "metadata": {},
   "outputs": [],
   "source": [
    "df = sampled_data.copy()"
   ]
  }
 ],
 "metadata": {
  "kernelspec": {
   "display_name": "Python 3",
   "language": "python",
   "name": "python3"
  },
  "language_info": {
   "codemirror_mode": {
    "name": "ipython",
    "version": 3
   },
   "file_extension": ".py",
   "mimetype": "text/x-python",
   "name": "python",
   "nbconvert_exporter": "python",
   "pygments_lexer": "ipython3",
   "version": "3.11.7"
  }
 },
 "nbformat": 4,
 "nbformat_minor": 2
}
