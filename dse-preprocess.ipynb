{
 "cells": [
  {
   "cell_type": "code",
   "execution_count": 1,
   "metadata": {},
   "outputs": [],
   "source": [
    "import numpy as np\n",
    "import pandas as pd\n",
    "import matplotlib.pyplot as plt\n",
    "import seaborn as sns\n",
    "from sklearn import datasets\n",
    "import os, sys"
   ]
  },
  {
   "cell_type": "code",
   "execution_count": 2,
   "metadata": {},
   "outputs": [
    {
     "name": "stdout",
     "output_type": "stream",
     "text": [
      "['output-2008-3-06 to 2008-12-30.csv', 'output-2009-1-01 to 2009-1-31.csv', 'output-2009-10-01 to 2009-10-31.csv', 'output-2009-11-01 to 2009-11-31.csv', 'output-2009-12-01 to 2009-12-31.csv', 'output-2009-2-01 to 2009-2-31.csv', 'output-2009-3-01 to 2009-3-31.csv', 'output-2009-4-01 to 2009-4-31.csv', 'output-2009-5-01 to 2009-5-31.csv', 'output-2009-6-01 to 2009-6-31.csv', 'output-2009-7-01 to 2009-7-31.csv', 'output-2009-8-01 to 2009-8-31.csv', 'output-2009-9-01 to 2009-9-31.csv', 'output-2010-1-01 to 2010-1-31.csv', 'output-2010-10-01 to 2010-10-31.csv', 'output-2010-11-01 to 2010-11-31.csv', 'output-2010-12-01 to 2010-12-31.csv', 'output-2010-2-01 to 2010-2-31.csv', 'output-2010-3-01 to 2010-3-31.csv', 'output-2010-4-01 to 2010-4-31.csv', 'output-2010-5-01 to 2010-5-31.csv', 'output-2010-6-01 to 2010-6-31.csv', 'output-2010-7-01 to 2010-7-31.csv', 'output-2010-8-01 to 2010-8-31.csv', 'output-2010-9-01 to 2010-9-31.csv', 'output-2011-1-01 to 2011-1-31.csv', 'output-2011-10-01 to 2011-10-31.csv', 'output-2011-11-01 to 2011-11-31.csv', 'output-2011-12-01 to 2011-12-31.csv', 'output-2011-2-01 to 2011-2-31.csv', 'output-2011-3-01 to 2011-3-31.csv', 'output-2011-4-01 to 2011-4-31.csv', 'output-2011-5-01 to 2011-5-31.csv', 'output-2011-6-01 to 2011-6-31.csv', 'output-2011-7-01 to 2011-7-31.csv', 'output-2011-8-01 to 2011-8-31.csv', 'output-2011-9-01 to 2011-9-31.csv', 'output-2012-1-01 to 2012-1-31.csv', 'output-2012-10-01 to 2012-10-31.csv', 'output-2012-11-01 to 2012-11-31.csv', 'output-2012-12-01 to 2012-12-31.csv', 'output-2012-2-01 to 2012-2-31.csv', 'output-2012-3-01 to 2012-3-31.csv', 'output-2012-4-01 to 2012-4-31.csv', 'output-2012-5-01 to 2012-5-31.csv', 'output-2012-6-01 to 2012-6-31.csv', 'output-2012-7-01 to 2012-7-31.csv', 'output-2012-8-01 to 2012-8-31.csv', 'output-2012-9-01 to 2012-9-31.csv', 'output-2013-1-01 to 2013-1-31.csv', 'output-2013-10-01 to 2013-10-31.csv', 'output-2013-11-01 to 2013-11-31.csv', 'output-2013-12-01 to 2013-12-31.csv', 'output-2013-2-01 to 2013-2-31.csv', 'output-2013-3-01 to 2013-3-31.csv', 'output-2013-4-01 to 2013-4-31.csv', 'output-2013-5-01 to 2013-5-31.csv', 'output-2013-6-01 to 2013-6-31.csv', 'output-2013-7-01 to 2013-7-31.csv', 'output-2013-8-01 to 2013-8-31.csv', 'output-2013-9-01 to 2013-9-31.csv', 'output-2014-1-01 to 2014-1-31.csv', 'output-2014-10-01 to 2014-10-31.csv', 'output-2014-11-01 to 2014-11-31.csv', 'output-2014-12-01 to 2014-12-31.csv', 'output-2014-2-01 to 2014-2-31.csv', 'output-2014-3-01 to 2014-3-31.csv', 'output-2014-4-01 to 2014-4-31.csv', 'output-2014-5-01 to 2014-5-31.csv', 'output-2014-6-01 to 2014-6-31.csv', 'output-2014-7-01 to 2014-7-31.csv', 'output-2014-8-01 to 2014-8-31.csv', 'output-2014-9-01 to 2014-9-31.csv', 'output-2015-1-01 to 2015-1-31.csv', 'output-2015-10-01 to 2015-10-31.csv', 'output-2015-11-01 to 2015-11-31.csv', 'output-2015-12-01 to 2015-12-31.csv', 'output-2015-2-01 to 2015-2-31.csv', 'output-2015-3-01 to 2015-3-31.csv', 'output-2015-4-01 to 2015-4-31.csv', 'output-2015-5-01 to 2015-5-31.csv', 'output-2015-6-01 to 2015-6-31.csv', 'output-2015-7-01 to 2015-7-31.csv', 'output-2015-8-01 to 2015-8-31.csv', 'output-2015-9-01 to 2015-9-31.csv', 'output-2016-1-01 to 2016-1-31.csv', 'output-2016-10-01 to 2016-10-31.csv', 'output-2016-11-01 to 2016-11-31.csv', 'output-2016-12-01 to 2016-12-31.csv', 'output-2016-2-01 to 2016-2-31.csv', 'output-2016-3-01 to 2016-3-31.csv', 'output-2016-4-01 to 2016-4-31.csv', 'output-2016-5-01 to 2016-5-31.csv', 'output-2016-6-01 to 2016-6-31.csv', 'output-2016-7-01 to 2016-7-31.csv', 'output-2016-8-01 to 2016-8-31.csv', 'output-2016-9-01 to 2016-9-31.csv', 'output-2017-1-01 to 2017-1-31.csv', 'output-2017-10-01 to 2017-10-31.csv', 'output-2017-11-01 to 2017-11-31.csv', 'output-2017-12-01 to 2017-12-31.csv', 'output-2017-2-01 to 2017-2-31.csv', 'output-2017-3-01 to 2017-3-31.csv', 'output-2017-4-01 to 2017-4-31.csv', 'output-2017-5-01 to 2017-5-31.csv', 'output-2017-6-01 to 2017-6-31.csv', 'output-2017-7-01 to 2017-7-31.csv', 'output-2017-8-01 to 2017-8-31.csv', 'output-2017-9-01 to 2017-9-31.csv', 'output-2018-1-01 to 2018-1-31.csv', 'output-2018-10-01 to 2018-10-31.csv', 'output-2018-11-01 to 2018-11-31.csv', 'output-2018-12-01 to 2018-12-31.csv', 'output-2018-2-01 to 2018-2-31.csv', 'output-2018-3-01 to 2018-3-31.csv', 'output-2018-4-01 to 2018-4-31.csv', 'output-2018-5-01 to 2018-5-31.csv', 'output-2018-6-01 to 2018-6-31.csv', 'output-2018-7-01 to 2018-7-31.csv', 'output-2018-8-01 to 2018-8-31.csv', 'output-2018-9-01 to 2018-9-31.csv', 'output-2019-1-01 to 2019-1-31.csv', 'output-2019-10-01 to 2019-10-31.csv', 'output-2019-12-01 to 2019-12-31.csv', 'output-2019-2-01 to 2019-2-31.csv', 'output-2019-3-01 to 2019-3-31.csv', 'output-2019-4-01 to 2019-4-31.csv', 'output-2019-5-01 to 2019-5-31.csv', 'output-2019-6-01 to 2019-6-31.csv', 'output-2019-7-01 to 2019-7-31.csv', 'output-2019-8-01 to 2019-8-31.csv', 'output-2019-9-01 to 2019-9-31.csv']\n"
     ]
    }
   ],
   "source": [
    "# load the dataset/dse folder\n",
    "# file formats are 'output-<start> to <end>.csv'\n",
    "\n",
    "dir = os.path.join('dataset', 'dse')\n",
    "\n",
    "files = os.listdir(dir)\n",
    "files.sort()\n",
    "print(files)"
   ]
  },
  {
   "cell_type": "code",
   "execution_count": 4,
   "metadata": {},
   "outputs": [
    {
     "name": "stderr",
     "output_type": "stream",
     "text": [
      "C:\\Users\\Asus\\AppData\\Local\\Temp\\ipykernel_5248\\344611207.py:4: DtypeWarning: Columns (11) have mixed types. Specify dtype option on import or set low_memory=False.\n",
      "  dfs.append(pd.read_csv(os.path.join(dir, file), index_col=0))\n"
     ]
    },
    {
     "name": "stdout",
     "output_type": "stream",
     "text": [
      "         date      tic    high    low open   close volume\n",
      "0  2008-12-30  1STBSRS     840    819  825  826.25  5,000\n",
      "1  2008-12-28  1STBSRS     829    802  802  825.75  3,400\n",
      "2  2008-12-24  1STBSRS  809.75    786  790     790  4,450\n",
      "3  2008-12-23  1STBSRS   798.5    785  785  785.75  2,600\n",
      "4  2008-12-22  1STBSRS   794.5  775.5  787   782.5  1,000\n"
     ]
    }
   ],
   "source": [
    "# load the files into pd\n",
    "dfs = []\n",
    "for file in files:\n",
    "    dfs.append(pd.read_csv(os.path.join(dir, file), index_col=0))\n",
    "    \n",
    "# merge the dataframes\n",
    "df = pd.concat(dfs, ignore_index=True)\n",
    "\n",
    "df.drop(['#', 'LTP*', 'YCP', 'TRADE', 'VALUE (mn)'], axis=1, inplace=True)\n",
    "df.rename(columns={'DATE': 'date', 'TRADING CODE': 'tic', 'HIGH': 'high', 'LOW': 'low', 'OPENP*': 'open', 'CLOSEP*': 'close', 'VOLUME': 'volume'}, inplace=True)\n",
    "df.sort_values(['date','tic'],ignore_index=True).head()\n",
    "\n",
    "print(df.head())\n"
   ]
  }
 ],
 "metadata": {
  "kernelspec": {
   "display_name": "ML",
   "language": "python",
   "name": "python3"
  },
  "language_info": {
   "codemirror_mode": {
    "name": "ipython",
    "version": 3
   },
   "file_extension": ".py",
   "mimetype": "text/x-python",
   "name": "python",
   "nbconvert_exporter": "python",
   "pygments_lexer": "ipython3",
   "version": "3.11.7"
  }
 },
 "nbformat": 4,
 "nbformat_minor": 2
}
